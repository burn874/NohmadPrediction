{
 "cells": [
  {
   "cell_type": "code",
   "execution_count": 1,
   "metadata": {},
   "outputs": [],
   "source": [
    "import csv\n",
    "import numpy as np"
   ]
  },
  {
   "cell_type": "code",
   "execution_count": 6,
   "metadata": {},
   "outputs": [
    {
     "name": "stdout",
     "output_type": "stream",
     "text": [
      "Shape (2400, 13)\n"
     ]
    }
   ],
   "source": [
    "with open(\"train.csv\") as csvfile:\n",
    "    raw = csv.reader(csvfile)\n",
    "    rawlist = []\n",
    "    for row in raw:\n",
    "        rawlist.append(row)\n",
    "    npdata = np.array(rawlist[1:], dtype = np.float32)\n",
    "npdata = npdata[:, 1:]\n",
    "print(\"Shape {}\".format(npdata.shape))"
   ]
  },
  {
   "cell_type": "code",
   "execution_count": 8,
   "metadata": {},
   "outputs": [
    {
     "name": "stdout",
     "output_type": "stream",
     "text": [
      "WARNING:tensorflow:From /usr/local/lib/python3.7/site-packages/tensorflow/python/framework/op_def_library.py:263: colocate_with (from tensorflow.python.framework.ops) is deprecated and will be removed in a future version.\n",
      "Instructions for updating:\n",
      "Colocations handled automatically by placer.\n"
     ]
    }
   ],
   "source": [
    "import tensorflow as tf\n",
    "embedding_var = tf.Variable(npdata)\n",
    "saver = tf.train.Saver()\n",
    "with tf.Session() as sess:\n",
    "    sess.run(tf.global_variables_initializer())\n",
    "    saver.save(sess, \"./data.ckpt\")"
   ]
  },
  {
   "cell_type": "code",
   "execution_count": 22,
   "metadata": {},
   "outputs": [
    {
     "name": "stdout",
     "output_type": "stream",
     "text": [
      "Minimum euclid distance: 6023.99951171875\n",
      "[0 1 2 ... 4 0 4]\n",
      "{0, 1, 2, 3, 4, 5, 6, 7, 8, 9, 10, 11, 12, 13, 14, 15, 16, 17, -1}\n",
      "[[1. 0. 0. ... 0. 0. 0.]\n",
      " [0. 1. 0. ... 0. 0. 0.]\n",
      " [0. 0. 1. ... 0. 0. 0.]\n",
      " ...\n",
      " [0. 0. 0. ... 0. 0. 0.]\n",
      " [1. 0. 0. ... 0. 0. 0.]\n",
      " [0. 0. 0. ... 0. 0. 0.]]\n"
     ]
    }
   ],
   "source": [
    "#TRY TO SPLIT DATA INTO 11 CLUSTERS\n",
    "a = np.sum((npdata[2371] - npdata[2399])**2)\n",
    "print(\"Minimum euclid distance: {}\".format(a))\n",
    "from sklearn.cluster import DBSCAN\n",
    "clustering = DBSCAN().fit_predict(npdata)\n",
    "print(clustering)\n",
    "print(set(clustering))\n",
    "list(clustering).index(-1)\n",
    "with open(\"labels.tsv\", \"w\") as f:\n",
    "    for line in np.array(clustering):\n",
    "        f.write(str(line) + \"\\n\")\n",
    "\n"
   ]
  },
  {
   "cell_type": "code",
   "execution_count": null,
   "metadata": {},
   "outputs": [
    {
     "name": "stdout",
     "output_type": "stream",
     "text": [
      "(2400, 11)\n",
      "(2400, 2)\n",
      "(2400, 19)\n"
     ]
    }
   ],
   "source": [
    "Xtrain = npdata[:,:11]\n",
    "Yregressiontrain = npdata[:,11:]\n",
    "Yclustertrain = np.zeros((clustering.shape[0], len(set(clustering))))\n",
    "for i in range(len(clustering)):\n",
    "    Yclustertrain[i, clustering[i]] = 1\n",
    "print(Xtrain.shape)\n",
    "print(Yregressiontrain.shape)\n",
    "print(Yclustertrain.shape)\n",
    "np.save(\"Xtrain.npy\", Xtrain)\n",
    "np.save(\"Yregressiontrain.npy\", Yregressiontrain)\n",
    "np.save(\"Yclustertrain.npy\", Yclustertrain)"
   ]
  },
  {
   "cell_type": "code",
   "execution_count": null,
   "metadata": {},
   "outputs": [],
   "source": []
  }
 ],
 "metadata": {
  "kernelspec": {
   "display_name": "Python 3",
   "language": "python",
   "name": "python3"
  },
  "language_info": {
   "codemirror_mode": {
    "name": "ipython",
    "version": 3
   },
   "file_extension": ".py",
   "mimetype": "text/x-python",
   "name": "python",
   "nbconvert_exporter": "python",
   "pygments_lexer": "ipython3",
   "version": "3.7.2"
  }
 },
 "nbformat": 4,
 "nbformat_minor": 2
}
